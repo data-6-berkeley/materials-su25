{
 "cells": [
  {
   "cell_type": "markdown",
   "id": "01e6ff2f",
   "metadata": {},
   "source": [
    "# Lecture 3 Continued – Evaluation, Names, Data Types\n",
    "\n",
    "### Data 6, Summer 2025"
   ]
  },
  {
   "cell_type": "markdown",
   "id": "2dc5203e",
   "metadata": {},
   "source": [
    "## `print()`"
   ]
  },
  {
   "cell_type": "markdown",
   "id": "75814efb",
   "metadata": {},
   "source": [
    "The `print` function in Python is used to display information or output on the screen. It allows you to show text, numbers, variables, or any other value to the user or developer during program execution. You can pass multiple arguments to the `print` function, which will be displayed sequentially on a single line by default."
   ]
  },
  {
   "cell_type": "markdown",
   "id": "e6fde85a",
   "metadata": {},
   "source": [
    "What happens when we run the cell below?"
   ]
  },
  {
   "cell_type": "code",
   "execution_count": null,
   "id": "a0a8395c",
   "metadata": {},
   "outputs": [],
   "source": [
    "print(15)\n",
    "x = 3 + 4\n",
    "x\n",
    "print(14)\n",
    "-3"
   ]
  },
  {
   "cell_type": "markdown",
   "id": "e328ec5a",
   "metadata": {},
   "source": [
    "## Hello World\n",
    "For example, `print(\"Hello, world!\")` would display the text \"Hello, world!\" on the screen. Run the cell below to try it out!"
   ]
  },
  {
   "cell_type": "code",
   "execution_count": null,
   "id": "05076e68",
   "metadata": {},
   "outputs": [],
   "source": [
    "print(\"Hello, world!\")"
   ]
  },
  {
   "cell_type": "markdown",
   "id": "08277ce3",
   "metadata": {},
   "source": [
    "### Advanced `print()` Example\n",
    "\n",
    "Notice how we **typecast** s to be a string so we can concatenate the strings together!"
   ]
  },
  {
   "cell_type": "code",
   "execution_count": null,
   "id": "2a0e7404",
   "metadata": {},
   "outputs": [],
   "source": [
    "polygon = \"square\"\n",
    "s = 4\n",
    "print(\"The area of a \" + polygon + \\\n",
    "      \" with side length \" + str(s) + \\\n",
    "      \" is \" + str(s ** 2) + \".\")"
   ]
  },
  {
   "cell_type": "markdown",
   "id": "8c917164",
   "metadata": {},
   "source": [
    "## Exercise"
   ]
  },
  {
   "cell_type": "markdown",
   "id": "73666727",
   "metadata": {},
   "source": [
    "You can also print the value of variables by including them as arguments, such as `name = \"John\"`, then `print(\"My name is\", name)`, which would display \"My name is John\". The `print` function can be used for debugging purposes or to provide output to the user in interactive programs. It is a fundamental tool in Python for displaying information and verifying program behavior.\n",
    "\n",
    "Try the following exercise, where the goal is to print the sum of two numbers. Your output should read:\n",
    "\n",
    "> \"The sum of 5 and 3 is 8\""
   ]
  },
  {
   "cell_type": "code",
   "execution_count": null,
   "id": "21a690ee",
   "metadata": {},
   "outputs": [],
   "source": [
    "# Exercise: Print the sum of two numbers\n",
    "num1 = 5\n",
    "num2 = 3\n",
    "sum_result = num1 + num2\n",
    "a = print(\"The sum of\" + str(num1), \"and\", num2, \"is\", sum_result)\n",
    "a"
   ]
  },
  {
   "cell_type": "markdown",
   "id": "c206b990",
   "metadata": {},
   "source": [
    "## NoneType"
   ]
  },
  {
   "cell_type": "markdown",
   "id": "d3ce830a",
   "metadata": {},
   "source": [
    "In Python, `NoneType` is a special data type that represents the absence of a value or the lack of any specific data. It is used to indicate the absence of a meaningful object or variable. \n",
    "\n",
    "When a function or method does not have a return value or when a variable has not been assigned a value, Python assigns the `None` value to it, and its type becomes `NoneType`. \n",
    "\n",
    "It is commonly used as a default value, a placeholder, or to signify the failure of an operation.\n",
    "\n",
    "Here are a few examples of it"
   ]
  },
  {
   "cell_type": "code",
   "execution_count": null,
   "id": "dc2d2713",
   "metadata": {},
   "outputs": [],
   "source": [
    "my_var = None\n",
    "type(my_var)"
   ]
  },
  {
   "cell_type": "code",
   "execution_count": null,
   "id": "f721254d",
   "metadata": {},
   "outputs": [],
   "source": [
    "# No cell output!\n",
    "my_var"
   ]
  },
  {
   "cell_type": "code",
   "execution_count": null,
   "id": "f0c719c6",
   "metadata": {},
   "outputs": [],
   "source": [
    "# But it can be printed.\n",
    "print(my_var)"
   ]
  },
  {
   "cell_type": "markdown",
   "id": "a026cf24",
   "metadata": {},
   "source": [
    "What is output and/or displayed when we run the cell below?"
   ]
  },
  {
   "cell_type": "code",
   "execution_count": null,
   "id": "99492d26",
   "metadata": {},
   "outputs": [],
   "source": [
    "print(\"This value is\", print(1))"
   ]
  },
  {
   "cell_type": "markdown",
   "id": "97fdae3b",
   "metadata": {},
   "source": [
    "## Arrays"
   ]
  },
  {
   "cell_type": "code",
   "execution_count": null,
   "id": "be8022c7",
   "metadata": {},
   "outputs": [],
   "source": [
    "# Run this cell to import the needed functions\n",
    "from datascience import *"
   ]
  },
  {
   "cell_type": "markdown",
   "id": "f93970cb",
   "metadata": {},
   "source": [
    "## `make_array()`\n",
    "The `make_array` function takes in multiple values seperated by commas, and combines them into one value called an **array**. We will use arrays extensively in this class due to many of their useful features that allow us to write simpler code when working with lots of data. See the examples below for some uses of the function"
   ]
  },
  {
   "cell_type": "code",
   "execution_count": null,
   "id": "76bc1fbf",
   "metadata": {},
   "outputs": [],
   "source": [
    "make_array(5, -1, 0, 5)"
   ]
  },
  {
   "cell_type": "code",
   "execution_count": null,
   "id": "0a31f6a6",
   "metadata": {},
   "outputs": [],
   "source": [
    "make_array(5, -1, 0.3, 5)"
   ]
  },
  {
   "cell_type": "code",
   "execution_count": null,
   "id": "ce650db2",
   "metadata": {
    "scrolled": true
   },
   "outputs": [],
   "source": [
    "make_array(4, -4.5, \"not a number\")"
   ]
  },
  {
   "cell_type": "code",
   "execution_count": null,
   "id": "d074fb5a",
   "metadata": {},
   "outputs": [],
   "source": [
    "arr = make_array(\"hello\",\n",
    "                 \"world\",\n",
    "                 \"!\")\n",
    "arr"
   ]
  },
  {
   "cell_type": "code",
   "execution_count": null,
   "id": "086f8990",
   "metadata": {},
   "outputs": [],
   "source": [
    "print(make_array(5, -1, 0.3, 5))"
   ]
  },
  {
   "cell_type": "markdown",
   "id": "8a7760fb",
   "metadata": {},
   "source": [
    "### Education Levels"
   ]
  },
  {
   "cell_type": "markdown",
   "id": "d3b08e0a",
   "metadata": {},
   "source": [
    "Task 1: Compute % of non-high school graduates by state"
   ]
  },
  {
   "cell_type": "code",
   "execution_count": null,
   "id": "28beb40e",
   "metadata": {},
   "outputs": [],
   "source": [
    "from datascience import *"
   ]
  },
  {
   "cell_type": "code",
   "execution_count": null,
   "id": "067c9e2d",
   "metadata": {},
   "outputs": [],
   "source": [
    "hs_or_higher = make_array(86.9, 83.9, 88.5, 87.2, 84.4)\n",
    "hs_or_higher"
   ]
  },
  {
   "cell_type": "code",
   "execution_count": null,
   "id": "7317c1da",
   "metadata": {},
   "outputs": [],
   "source": [
    "100 - hs_or_higher\n",
    "hs_or_higher"
   ]
  },
  {
   "cell_type": "code",
   "execution_count": null,
   "id": "8a38291a",
   "metadata": {},
   "outputs": [],
   "source": [
    "below_hs = 100 - hs_or_higher\n",
    "below_hs"
   ]
  },
  {
   "cell_type": "markdown",
   "id": "008b0baa",
   "metadata": {},
   "source": [
    "Task 2: Compute number of bachelor’s degrees by state\n"
   ]
  },
  {
   "cell_type": "code",
   "execution_count": null,
   "id": "ff79db6d",
   "metadata": {},
   "outputs": [],
   "source": [
    "bs_or_higher = make_array(26.2, 34.7, 30.5, 37.5)\n",
    "state_pop = make_array(3344006, 26665143, 15255326, 13649157, 18449851)\n",
    "state_pop"
   ]
  },
  {
   "cell_type": "code",
   "execution_count": null,
   "id": "71deeb19",
   "metadata": {},
   "outputs": [],
   "source": [
    "bs_or_higher/ 100 * state_pop"
   ]
  },
  {
   "cell_type": "code",
   "execution_count": null,
   "id": "be77baaf",
   "metadata": {},
   "outputs": [],
   "source": [
    "below_hs"
   ]
  },
  {
   "cell_type": "markdown",
   "id": "a760d309",
   "metadata": {},
   "source": [
    "<br/><br/>\n",
    "\n",
    "# Practice\n",
    "\n",
    "Sometimes, we will include extra practice problems at the end for you to work on after class. These are not required or graded in any way, but they're highly recommended."
   ]
  },
  {
   "cell_type": "markdown",
   "id": "ecf44c7d",
   "metadata": {},
   "source": [
    "## Exercise\n",
    "\n",
    "Assign the variable `ans` to a string that reads `'Lisa Jobs is 45 years old and lives in Canada.'`\n",
    "\n",
    "You **MUST** use the four variables defined below to create the string.\n",
    "\n",
    "_Hint: You will need to cast the variable `age` to an integer so that you can change it from 42 to 45._"
   ]
  },
  {
   "cell_type": "code",
   "execution_count": null,
   "id": "dc34e742",
   "metadata": {},
   "outputs": [],
   "source": [
    "first_name = 'Lisa'\n",
    "last_name = 'Jobs'\n",
    "age = \"42\"\n",
    "location = 'Canada'\n",
    "\n",
    "ans = ... # YOUR CODE HERE\n",
    "ans"
   ]
  }
 ],
 "metadata": {
  "kernelspec": {
   "display_name": "Python 3 (ipykernel)",
   "language": "python",
   "name": "python3"
  },
  "language_info": {
   "codemirror_mode": {
    "name": "ipython",
    "version": 3
   },
   "file_extension": ".py",
   "mimetype": "text/x-python",
   "name": "python",
   "nbconvert_exporter": "python",
   "pygments_lexer": "ipython3",
   "version": "3.11.9"
  }
 },
 "nbformat": 4,
 "nbformat_minor": 5
}
