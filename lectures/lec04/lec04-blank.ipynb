{
 "cells": [
  {
   "cell_type": "markdown",
   "id": "01e6ff2f",
   "metadata": {},
   "source": [
    "# Lecture 4 – Arrays, NumPy, Indexing\n",
    "\n",
    "### Data 6, Summer 2025"
   ]
  },
  {
   "cell_type": "markdown",
   "id": "97fdae3b",
   "metadata": {},
   "source": [
    "## Arrays"
   ]
  },
  {
   "cell_type": "code",
   "execution_count": null,
   "id": "be8022c7",
   "metadata": {},
   "outputs": [],
   "source": [
    "# Run this cell to import the needed functions\n",
    "from datascience import *"
   ]
  },
  {
   "cell_type": "markdown",
   "id": "f93970cb",
   "metadata": {},
   "source": [
    "## `make_array()`\n",
    "The `make_array` function takes in multiple values seperated by commas, and combines them into one value called an **array**. We will use arrays extensively in this class due to many of their useful features that allow us to write simpler code when working with lots of data. See the examples below for some uses of the function."
   ]
  },
  {
   "cell_type": "code",
   "execution_count": null,
   "id": "76bc1fbf",
   "metadata": {},
   "outputs": [],
   "source": [
    "make_array(5, -1, 0, 5)"
   ]
  },
  {
   "cell_type": "code",
   "execution_count": null,
   "id": "0a31f6a6",
   "metadata": {},
   "outputs": [],
   "source": [
    "make_array(5, -1, 0.3, 5)"
   ]
  },
  {
   "cell_type": "code",
   "execution_count": null,
   "id": "ce650db2",
   "metadata": {
    "scrolled": true
   },
   "outputs": [],
   "source": [
    "make_array(4, -4.5, \"not a number\")"
   ]
  },
  {
   "cell_type": "code",
   "execution_count": null,
   "id": "d074fb5a",
   "metadata": {},
   "outputs": [],
   "source": [
    "arr = make_array(\"hello\",\n",
    "                 \"world\",\n",
    "                 \"!\")\n",
    "arr"
   ]
  },
  {
   "cell_type": "code",
   "execution_count": null,
   "id": "086f8990",
   "metadata": {},
   "outputs": [],
   "source": [
    "print(make_array(5, -1, 0.3, 5))"
   ]
  },
  {
   "cell_type": "markdown",
   "id": "8a7760fb",
   "metadata": {},
   "source": [
    "### Education Levels"
   ]
  },
  {
   "cell_type": "markdown",
   "id": "d3b08e0a",
   "metadata": {},
   "source": [
    "Task 1: Compute % of non-high school graduates by state"
   ]
  },
  {
   "cell_type": "code",
   "execution_count": null,
   "id": "067c9e2d",
   "metadata": {},
   "outputs": [],
   "source": [
    "hs_or_higher = make_array(86.9, 83.9, 88.5, 87.2, 84.4)\n",
    "hs_or_higher"
   ]
  },
  {
   "cell_type": "code",
   "execution_count": null,
   "id": "7317c1da",
   "metadata": {},
   "outputs": [],
   "source": [
    "100 - hs_or_higher\n",
    "hs_or_higher"
   ]
  },
  {
   "cell_type": "code",
   "execution_count": null,
   "id": "8a38291a",
   "metadata": {},
   "outputs": [],
   "source": [
    "below_hs = 100 - hs_or_higher\n",
    "below_hs"
   ]
  },
  {
   "cell_type": "markdown",
   "id": "008b0baa",
   "metadata": {},
   "source": [
    "Task 2: Compute number of bachelor’s degrees by state\n"
   ]
  },
  {
   "cell_type": "code",
   "execution_count": null,
   "id": "ff79db6d",
   "metadata": {},
   "outputs": [],
   "source": [
    "bs_or_higher = make_array(26.2, 34.7, 30.5, 37.5, 30.7)\n",
    "state_pop = make_array(3344006, 26665143, 15255326, 13649157, 18449851)\n",
    "state_pop"
   ]
  },
  {
   "cell_type": "code",
   "execution_count": null,
   "id": "71deeb19",
   "metadata": {},
   "outputs": [],
   "source": [
    "... #YOUR CODE HERE"
   ]
  },
  {
   "cell_type": "code",
   "execution_count": null,
   "id": "f9a37f60",
   "metadata": {},
   "outputs": [],
   "source": [
    "#from datascience import *\n",
    "from numpy import * #Why is this not preferred?\n",
    "import numpy as np #Why is this preferred?\n",
    "import datascience as ds"
   ]
  },
  {
   "cell_type": "code",
   "execution_count": null,
   "id": "91e72c7b",
   "metadata": {},
   "outputs": [],
   "source": [
    "c_temps = ds.make_array(30, 18, -4.5, 0, 3)\n",
    "\n",
    "type(c_temps.item(0))\n"
   ]
  },
  {
   "cell_type": "markdown",
   "id": "0f0e17fd",
   "metadata": {},
   "source": [
    "## Warmup"
   ]
  },
  {
   "cell_type": "code",
   "execution_count": null,
   "id": "0e029791",
   "metadata": {},
   "outputs": [],
   "source": [
    "pop_2020 = make_array(5.025, .732, 7.178, 3.012, 39.500)\n",
    "pop_2021 = make_array(5.040, .733, 7.276, 3.026, 39.238)"
   ]
  },
  {
   "cell_type": "code",
   "execution_count": null,
   "id": "3a17ea90",
   "metadata": {},
   "outputs": [],
   "source": [
    "pop_2021 - pop_2020"
   ]
  },
  {
   "cell_type": "code",
   "execution_count": null,
   "id": "044b69bb",
   "metadata": {},
   "outputs": [],
   "source": [
    "average(pop_2020)"
   ]
  },
  {
   "cell_type": "code",
   "execution_count": null,
   "id": "24fb3d98",
   "metadata": {},
   "outputs": [],
   "source": [
    "x = print(print(3))\n",
    "print(x)"
   ]
  },
  {
   "cell_type": "markdown",
   "id": "7f449053",
   "metadata": {},
   "source": [
    "<br/><br/>\n",
    "\n",
    "# Array Functions\n",
    "Array functions in Python, such as len, min, and max, are essential tools for manipulating and analyzing arrays or lists of data. \n",
    "\n",
    "The `len` function returns the length of an array, providing the number of elements it contains. This is useful for determining the size of an array dynamically. \n",
    "\n",
    "The `min` function identifies the smallest value within an array, while the `max` function retrieves the largest value. \n",
    "\n",
    "The `sum` function sums all of the values in an array.\n",
    "\n",
    "These functions are handy when searching for extremities or performing basic statistical analysis on arrays. \n",
    "\n",
    "With their simplicity and efficiency, `len`, `min`, `max`, and `sum` are versatile array functions that greatly enhance Python's capabilities in data processing and analysis."
   ]
  },
  {
   "cell_type": "code",
   "execution_count": null,
   "id": "39e10b7e",
   "metadata": {},
   "outputs": [],
   "source": [
    "empty_arr = make_array()\n",
    "int_arr = make_array(3, -4, 0, 5, 2)\n",
    "str_arr = make_array(\"cm\", \"m\", \"in\", \"ft\", \"yd\")"
   ]
  },
  {
   "cell_type": "code",
   "execution_count": null,
   "id": "e8c4eb98",
   "metadata": {},
   "outputs": [],
   "source": [
    "print(empty_arr)\n",
    "print(int_arr)\n",
    "print(str_arr)"
   ]
  },
  {
   "cell_type": "markdown",
   "id": "1dde2801",
   "metadata": {},
   "source": [
    "`len()`"
   ]
  },
  {
   "cell_type": "code",
   "execution_count": null,
   "id": "bdafcd74",
   "metadata": {},
   "outputs": [],
   "source": [
    "len(str_arr)"
   ]
  },
  {
   "cell_type": "code",
   "execution_count": null,
   "id": "b354706e",
   "metadata": {},
   "outputs": [],
   "source": [
    "len(empty_arr)"
   ]
  },
  {
   "cell_type": "markdown",
   "id": "d96c34d8",
   "metadata": {},
   "source": [
    "`min()`, `max()`"
   ]
  },
  {
   "cell_type": "code",
   "execution_count": null,
   "id": "ae72ed4c",
   "metadata": {},
   "outputs": [],
   "source": [
    "min(int_arr)"
   ]
  },
  {
   "cell_type": "code",
   "execution_count": null,
   "id": "b98937be",
   "metadata": {},
   "outputs": [],
   "source": [
    "max(str_arr)"
   ]
  },
  {
   "cell_type": "markdown",
   "id": "c873c9ed",
   "metadata": {},
   "source": [
    "`sum()`"
   ]
  },
  {
   "cell_type": "code",
   "execution_count": null,
   "id": "f3669952",
   "metadata": {},
   "outputs": [],
   "source": [
    "sum(int_arr)"
   ]
  },
  {
   "cell_type": "code",
   "execution_count": null,
   "id": "043ac7a9",
   "metadata": {},
   "outputs": [],
   "source": [
    "sum(str_arr)"
   ]
  },
  {
   "cell_type": "markdown",
   "id": "38c3aaf5",
   "metadata": {},
   "source": [
    "How would you compute the average of an array arr?"
   ]
  },
  {
   "cell_type": "code",
   "execution_count": null,
   "id": "380b30a4",
   "metadata": {},
   "outputs": [],
   "source": [
    "arr = make_array(30, -40, -4.5, 0, 35)\n",
    "avg = ...\n",
    "avg"
   ]
  },
  {
   "cell_type": "markdown",
   "id": "3f00af26",
   "metadata": {},
   "source": [
    "## NumPy Functions"
   ]
  },
  {
   "cell_type": "markdown",
   "id": "71d6fd9c",
   "metadata": {},
   "source": [
    "Elementwise functions"
   ]
  },
  {
   "cell_type": "code",
   "execution_count": null,
   "id": "5fa63450",
   "metadata": {},
   "outputs": [],
   "source": [
    "numbers_arr = make_array(5, 4, 9, 12, 100)\n",
    "numbers_arr"
   ]
  },
  {
   "cell_type": "code",
   "execution_count": null,
   "id": "c24654f1",
   "metadata": {},
   "outputs": [],
   "source": [
    "np.sqrt(numbers_arr)"
   ]
  },
  {
   "cell_type": "code",
   "execution_count": null,
   "id": "74ee3340",
   "metadata": {},
   "outputs": [],
   "source": [
    "np.log(numbers_arr)   # natural log"
   ]
  },
  {
   "cell_type": "code",
   "execution_count": null,
   "id": "29630c4f",
   "metadata": {},
   "outputs": [],
   "source": [
    "np.log10(numbers_arr) # log base 10"
   ]
  },
  {
   "cell_type": "code",
   "execution_count": null,
   "id": "0c2f8022",
   "metadata": {},
   "outputs": [],
   "source": [
    "np.sin(numbers_arr)"
   ]
  },
  {
   "cell_type": "code",
   "execution_count": null,
   "id": "88abf5f0",
   "metadata": {},
   "outputs": [],
   "source": [
    "np.sqrt(144)"
   ]
  },
  {
   "cell_type": "markdown",
   "id": "30cab4e8",
   "metadata": {},
   "source": [
    "Common functions"
   ]
  },
  {
   "cell_type": "code",
   "execution_count": null,
   "id": "ba359931",
   "metadata": {},
   "outputs": [],
   "source": [
    "pop_2020"
   ]
  },
  {
   "cell_type": "code",
   "execution_count": null,
   "id": "12db1c07",
   "metadata": {},
   "outputs": [],
   "source": [
    "np.mean(pop_2020)"
   ]
  },
  {
   "cell_type": "code",
   "execution_count": null,
   "id": "d3f3fb5c",
   "metadata": {},
   "outputs": [],
   "source": [
    "np.average(pop_2020)"
   ]
  },
  {
   "cell_type": "code",
   "execution_count": null,
   "id": "7a8a8a45",
   "metadata": {},
   "outputs": [],
   "source": [
    "np.sum(pop_2020)"
   ]
  },
  {
   "cell_type": "code",
   "execution_count": null,
   "id": "40f02333",
   "metadata": {},
   "outputs": [],
   "source": [
    "np.prod(pop_2020)"
   ]
  },
  {
   "cell_type": "code",
   "execution_count": null,
   "id": "59d568fb",
   "metadata": {},
   "outputs": [],
   "source": [
    "np.count_nonzero(make_array(1, 2, 3, 0, 4, 0, -5))"
   ]
  },
  {
   "cell_type": "markdown",
   "id": "abf8a2e8",
   "metadata": {},
   "source": [
    "### Even More Functions"
   ]
  },
  {
   "cell_type": "code",
   "execution_count": null,
   "id": "4be64dd3",
   "metadata": {},
   "outputs": [],
   "source": [
    "daily_high_temps = make_array(73, 71, 69, 72, 76, 74, 75)\n",
    "daily_high_temps"
   ]
  },
  {
   "cell_type": "code",
   "execution_count": null,
   "id": "7a7166ad",
   "metadata": {},
   "outputs": [],
   "source": [
    "np.diff(daily_high_temps)"
   ]
  },
  {
   "cell_type": "code",
   "execution_count": null,
   "id": "64e32785",
   "metadata": {},
   "outputs": [],
   "source": [
    "pop_by_year = make_array(23, 45, 93, 101, 118)\n",
    "pop_by_year"
   ]
  },
  {
   "cell_type": "code",
   "execution_count": null,
   "id": "fb12aee2",
   "metadata": {},
   "outputs": [],
   "source": [
    "np.cumsum(pop_by_year)"
   ]
  },
  {
   "cell_type": "code",
   "execution_count": null,
   "id": "cd1d7284",
   "metadata": {},
   "outputs": [],
   "source": [
    "np.arange(10)\n",
    "make_array(0, 1, 2, 3, 4...9)"
   ]
  },
  {
   "cell_type": "code",
   "execution_count": null,
   "id": "c77ad6a7",
   "metadata": {},
   "outputs": [],
   "source": [
    "arr = np.arange(3, 9)\n",
    "arr"
   ]
  },
  {
   "cell_type": "code",
   "execution_count": null,
   "id": "65f10b22",
   "metadata": {},
   "outputs": [],
   "source": [
    "np.arange(3, 14, 7)"
   ]
  },
  {
   "cell_type": "code",
   "execution_count": null,
   "id": "598a749b",
   "metadata": {},
   "outputs": [],
   "source": [
    "arr = np.arange(1, 11)\n",
    "arr"
   ]
  },
  {
   "cell_type": "code",
   "execution_count": null,
   "id": "c20aa05b",
   "metadata": {},
   "outputs": [],
   "source": [
    "np.sum(arr)"
   ]
  },
  {
   "cell_type": "code",
   "execution_count": null,
   "id": "1418bdb4",
   "metadata": {},
   "outputs": [],
   "source": [
    "np.arange(3, 11, 2)"
   ]
  },
  {
   "cell_type": "code",
   "execution_count": null,
   "id": "99d39c61",
   "metadata": {},
   "outputs": [],
   "source": [
    "np.arange(10, 1, -3)"
   ]
  },
  {
   "cell_type": "markdown",
   "id": "9c1a154a",
   "metadata": {},
   "source": [
    "# Indexing"
   ]
  },
  {
   "cell_type": "code",
   "execution_count": null,
   "id": "6a6ff898",
   "metadata": {},
   "outputs": [],
   "source": [
    "sq_array = make_array(1, 4, 9, 16, 25)\n",
    "sq_array"
   ]
  },
  {
   "cell_type": "code",
   "execution_count": null,
   "id": "b9f0e49a",
   "metadata": {},
   "outputs": [],
   "source": [
    "type(sq_array)"
   ]
  },
  {
   "cell_type": "code",
   "execution_count": null,
   "id": "2dd2bd95",
   "metadata": {},
   "outputs": [],
   "source": [
    "int_arr = make_array(3, -4, 0, 5, 2)\n",
    "int_arr"
   ]
  },
  {
   "cell_type": "code",
   "execution_count": null,
   "id": "912b65f4",
   "metadata": {},
   "outputs": [],
   "source": [
    "int_arr.item(0)"
   ]
  },
  {
   "cell_type": "code",
   "execution_count": null,
   "id": "243602ac",
   "metadata": {},
   "outputs": [],
   "source": [
    "int_arr.item(3)"
   ]
  },
  {
   "cell_type": "code",
   "execution_count": null,
   "id": "4a509428",
   "metadata": {},
   "outputs": [],
   "source": [
    "int_arr.item(5)"
   ]
  },
  {
   "cell_type": "code",
   "execution_count": null,
   "id": "0b928909",
   "metadata": {},
   "outputs": [],
   "source": [
    "int_arr.item(len(int_arr) - 1) #Grab the last item inside int_arr"
   ]
  },
  {
   "cell_type": "code",
   "execution_count": null,
   "id": "76709432",
   "metadata": {},
   "outputs": [],
   "source": [
    "int_arr.item(-1)"
   ]
  },
  {
   "cell_type": "code",
   "execution_count": null,
   "id": "19acccbf",
   "metadata": {},
   "outputs": [],
   "source": [
    "int_arr.item(-3)"
   ]
  },
  {
   "cell_type": "code",
   "execution_count": null,
   "id": "fef9d005",
   "metadata": {},
   "outputs": [],
   "source": [
    "test_array = make_array(10, 14, 67, -1.5, 3.2, 2.72, 104, 81, 3.14159)"
   ]
  },
  {
   "cell_type": "code",
   "execution_count": null,
   "id": "e8a4d9e1",
   "metadata": {},
   "outputs": [],
   "source": [
    "# first (0th element)\n",
    "test_array.item(0)"
   ]
  },
  {
   "cell_type": "code",
   "execution_count": null,
   "id": "3d7213bd",
   "metadata": {},
   "outputs": [],
   "source": [
    "# second (1st element)\n",
    "test_array.item(1)"
   ]
  },
  {
   "cell_type": "code",
   "execution_count": null,
   "id": "6e5ef760",
   "metadata": {},
   "outputs": [],
   "source": [
    "# last element\n",
    "test_array.item(len(test_array) - 1)\n",
    "# OR \n",
    "test_array.item(-1)"
   ]
  },
  {
   "cell_type": "code",
   "execution_count": null,
   "id": "b0ebcf7b",
   "metadata": {},
   "outputs": [],
   "source": [
    "# second to last element\n",
    "test_array.item(-2)"
   ]
  },
  {
   "cell_type": "markdown",
   "id": "2b45dac0",
   "metadata": {},
   "source": [
    "What is the value of `five` after running this code?"
   ]
  },
  {
   "cell_type": "code",
   "execution_count": null,
   "id": "bb9b3aeb",
   "metadata": {},
   "outputs": [],
   "source": [
    "threes = make_array(3, 6, 9, 12, 15)\n",
    "five = threes.item(-1) + threes.item(1)\n",
    "five"
   ]
  }
 ],
 "metadata": {
  "kernelspec": {
   "display_name": "Python 3 (ipykernel)",
   "language": "python",
   "name": "python3"
  },
  "language_info": {
   "codemirror_mode": {
    "name": "ipython",
    "version": 3
   },
   "file_extension": ".py",
   "mimetype": "text/x-python",
   "name": "python",
   "nbconvert_exporter": "python",
   "pygments_lexer": "ipython3",
   "version": "3.11.9"
  }
 },
 "nbformat": 4,
 "nbformat_minor": 5
}
