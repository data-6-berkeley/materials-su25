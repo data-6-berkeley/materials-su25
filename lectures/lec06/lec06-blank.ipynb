{
 "cells": [
  {
   "cell_type": "markdown",
   "metadata": {},
   "source": [
    "# Lecture 6 – Table Fundamentals\n",
    "\n",
    "## Data 6, Summer 2025"
   ]
  },
  {
   "cell_type": "code",
   "execution_count": null,
   "metadata": {},
   "outputs": [],
   "source": [
    "from datascience import *\n",
    "import numpy as np"
   ]
  },
  {
   "cell_type": "code",
   "execution_count": null,
   "metadata": {},
   "outputs": [],
   "source": [
    "# Warm Up"
   ]
  },
  {
   "cell_type": "code",
   "execution_count": null,
   "metadata": {},
   "outputs": [],
   "source": [
    "schools = Table.read_table('data/cal_unis.csv')\n",
    "type(schools)"
   ]
  },
  {
   "cell_type": "code",
   "execution_count": null,
   "metadata": {},
   "outputs": [],
   "source": [
    "schools.num_rows"
   ]
  },
  {
   "cell_type": "code",
   "execution_count": null,
   "metadata": {},
   "outputs": [],
   "source": [
    "schools.column(\"Name\")"
   ]
  },
  {
   "cell_type": "markdown",
   "metadata": {},
   "source": [
    "## Quick check 1"
   ]
  },
  {
   "cell_type": "code",
   "execution_count": null,
   "metadata": {},
   "outputs": [],
   "source": [
    "ncols = schools.num_columns\n",
    "ncols"
   ]
  },
  {
   "cell_type": "code",
   "execution_count": null,
   "metadata": {},
   "outputs": [],
   "source": [
    "arr = schools.column(\"Name\")\n",
    "type(arr)"
   ]
  },
  {
   "cell_type": "markdown",
   "metadata": {},
   "source": [
    "## Quick check 2"
   ]
  },
  {
   "cell_type": "code",
   "execution_count": null,
   "metadata": {},
   "outputs": [],
   "source": [
    "schools.take(1, 3, 5)"
   ]
  },
  {
   "cell_type": "code",
   "execution_count": null,
   "metadata": {},
   "outputs": [],
   "source": [
    "coffee_menu = Table()\n",
    "coffee_menu = coffee_menu.with_columns(\"Coffee Drink\", make_array(\"Espresso\", \"Cappuccino\", \"Iced Latte\", \"Mocha\", \"Cold Brew\", \"Caramel Macchiato\"),\n",
    "                         \"Type\", make_array(\"Hot\", \"Hot\", \"Cold\", \"Hot\", \"Cold\", \"Hot\"),\n",
    "                         \"Price (USD)\", make_array(3.00, 4.50, 5.00, 4.75, 4.25, 5.50),\n",
    "                         \"Sales (Units)\", make_array(120, 150, 200, 130, 180, 160))\n"
   ]
  },
  {
   "cell_type": "code",
   "execution_count": null,
   "metadata": {},
   "outputs": [],
   "source": [
    "coffee_menu.select(2)\n"
   ]
  },
  {
   "cell_type": "code",
   "execution_count": null,
   "metadata": {},
   "outputs": [],
   "source": [
    "coffee_menu.take(\"Coffee Drink\", \"Type\")"
   ]
  },
  {
   "cell_type": "markdown",
   "metadata": {},
   "source": [
    "# Column-first approach"
   ]
  },
  {
   "cell_type": "markdown",
   "metadata": {},
   "source": [
    "## Demo 1 - What is happening?"
   ]
  },
  {
   "cell_type": "code",
   "execution_count": null,
   "metadata": {},
   "outputs": [],
   "source": [
    "schools.select('Name', 'Enrollment')"
   ]
  },
  {
   "cell_type": "code",
   "execution_count": null,
   "metadata": {},
   "outputs": [],
   "source": [
    "smaller_table = schools.drop('Founded', 'County')\n",
    "smaller_table"
   ]
  },
  {
   "cell_type": "code",
   "execution_count": null,
   "metadata": {},
   "outputs": [],
   "source": [
    "schools"
   ]
  },
  {
   "cell_type": "markdown",
   "metadata": {},
   "source": [
    "What is happening?\n",
    "\n",
    "<br/><br/><br/>\n",
    "\n",
    "Each table method returns a new table, so our original table `schools` is unchanged."
   ]
  },
  {
   "cell_type": "markdown",
   "metadata": {},
   "source": [
    "Contrast this with the below cell, which permanently changes `schools` (why?):"
   ]
  },
  {
   "cell_type": "code",
   "execution_count": null,
   "metadata": {},
   "outputs": [],
   "source": [
    "schools = schools.drop(\"Institution\", \"City\").select(\"City\", \"Enrollment\")\n",
    "schools"
   ]
  },
  {
   "cell_type": "markdown",
   "metadata": {},
   "source": [
    "## Demo 2: `with_columns`"
   ]
  },
  {
   "cell_type": "markdown",
   "metadata": {},
   "source": [
    "Reset by reloading in the table from our data file:"
   ]
  },
  {
   "cell_type": "code",
   "execution_count": null,
   "metadata": {},
   "outputs": [],
   "source": [
    "schools = Table.read_table('data/cal_unis.csv')\n",
    "schools"
   ]
  },
  {
   "cell_type": "code",
   "execution_count": null,
   "metadata": {},
   "outputs": [],
   "source": [
    "# A subset of schools just for illustration purposes\n",
    "some_schools = schools.take(np.arange(5))\n",
    "some_schools"
   ]
  },
  {
   "cell_type": "markdown",
   "metadata": {},
   "source": [
    "Suppose we wanted to add a column \"Short name\" which gives the shortened name of each institution (often used for University Athletics):\n",
    "* University of California, Berkeley: Cal\n",
    "* University of California, Davis: Davis\n",
    "* University of California, Irvine: UCI\n",
    "* University of California, Los Angeles: UCLA\n",
    "* University of California, Merced: UCM"
   ]
  },
  {
   "cell_type": "code",
   "execution_count": null,
   "metadata": {},
   "outputs": [],
   "source": [
    "some_schools = some_schools.with_column(\"Short name\", make_array(\"Cal\", \"Davis\", \"UCI\", \"UCLA\", \"UCM\"))\n"
   ]
  },
  {
   "cell_type": "markdown",
   "metadata": {},
   "source": [
    "Suppose we wanted to add a column \"Years since founded\" (which is self-explanatory).\n",
    "\n",
    "How do we use **array functions** to do so?"
   ]
  },
  {
   "cell_type": "code",
   "execution_count": null,
   "metadata": {},
   "outputs": [],
   "source": [
    "some_schools = ... #YOUR CODE HERE\n",
    "some_schools"
   ]
  },
  {
   "cell_type": "markdown",
   "metadata": {},
   "source": [
    "### (Hide with arrow) Notes"
   ]
  },
  {
   "cell_type": "code",
   "execution_count": null,
   "metadata": {},
   "outputs": [],
   "source": [
    "some_schools = schools.take(np.arange(5))"
   ]
  },
  {
   "cell_type": "code",
   "execution_count": null,
   "metadata": {},
   "outputs": [],
   "source": [
    "some_schools = some_schools.with_columns(\n",
    "    \"Short name\", np.array([\"Cal\", \"UCD\", \"UCI\", \"UCLA\", \"UCM\"])\n",
    ")\n",
    "some_schools"
   ]
  },
  {
   "cell_type": "code",
   "execution_count": null,
   "metadata": {},
   "outputs": [],
   "source": [
    "some_schools = some_schools.with_columns(\n",
    "    \"Years since founded\",\n",
    "    2025 - some_schools.column(\"Founded\")\n",
    ")\n",
    "some_schools"
   ]
  },
  {
   "cell_type": "markdown",
   "metadata": {},
   "source": [
    "## Reorder Columns"
   ]
  },
  {
   "cell_type": "code",
   "execution_count": null,
   "metadata": {},
   "outputs": [],
   "source": [
    "some_schools.select(\"Name\", \"Short name\", \"Founded\",\n",
    "                    \"Years since founded\", \"Institution\", \"City\",\n",
    "                    \"County\", \"Enrollment\")"
   ]
  },
  {
   "cell_type": "markdown",
   "metadata": {},
   "source": [
    "# Create new tables"
   ]
  },
  {
   "cell_type": "code",
   "execution_count": null,
   "metadata": {},
   "outputs": [],
   "source": [
    "states = Table().with_columns('State',\n",
    "    np.array(['California', 'New York', 'Florida', 'Texas', 'Pennsylvania']),\n",
    "    'Code', np.array(['CA', 'NY', 'FL', 'TX', 'PA']), 'Population', np.array([39.3, 19.3, 21.7, 29.3, 12.8])\n",
    ")"
   ]
  },
  {
   "cell_type": "code",
   "execution_count": null,
   "metadata": {},
   "outputs": [],
   "source": [
    "states"
   ]
  },
  {
   "cell_type": "markdown",
   "metadata": {},
   "source": [
    "# More Table Methods, More Documentation"
   ]
  },
  {
   "cell_type": "code",
   "execution_count": null,
   "metadata": {},
   "outputs": [],
   "source": [
    "schools = Table.read_table('data/cal_unis.csv')\n",
    "schools"
   ]
  },
  {
   "cell_type": "markdown",
   "metadata": {},
   "source": [
    "## Reading documentation, Part 1\n",
    "\n",
    "1. How do we get all the column labels of `schools`?\n",
    "1. How do we **update** `schools` such that the column Name is renamed University?\n"
   ]
  },
  {
   "cell_type": "code",
   "execution_count": null,
   "metadata": {},
   "outputs": [],
   "source": [
    "... # 1"
   ]
  },
  {
   "cell_type": "code",
   "execution_count": null,
   "metadata": {},
   "outputs": [],
   "source": [
    "... # 2"
   ]
  },
  {
   "cell_type": "markdown",
   "metadata": {},
   "source": [
    "## Reading documentation, Part 2 (Exact match filters with `.where`)\n",
    "\n",
    "1. How do we get all the column labels of `schools`?\n",
    "1. How do we **update** `schools` such that the column Name is renamed University?\n"
   ]
  },
  {
   "cell_type": "code",
   "execution_count": null,
   "metadata": {},
   "outputs": [],
   "source": [
    "schools.where(\"Institution\", \"UC\")"
   ]
  },
  {
   "cell_type": "code",
   "execution_count": null,
   "metadata": {},
   "outputs": [],
   "source": [
    "schools.where(\"City\", \"Los Angeles\")"
   ]
  },
  {
   "cell_type": "markdown",
   "metadata": {},
   "source": [
    "## Reading documentation, Part 2 (Be careful with `.show`)\n",
    "\n",
    "The following cells exhibit a tricky, but potentially common bug.\n",
    "\n",
    "Run the three cells in sequence. Why does the last cell throw an error? What is the error referring to?\n",
    "\n",
    "**Hint**: Read the documentation of `tbl.show(n)`."
   ]
  },
  {
   "cell_type": "code",
   "execution_count": null,
   "metadata": {},
   "outputs": [],
   "source": [
    "schools = Table.read_table('data/cal_unis.csv')\n",
    "schools"
   ]
  },
  {
   "cell_type": "code",
   "execution_count": null,
   "metadata": {},
   "outputs": [],
   "source": [
    "schools = schools.show(3)"
   ]
  },
  {
   "cell_type": "code",
   "execution_count": null,
   "metadata": {
    "scrolled": true
   },
   "outputs": [],
   "source": [
    "schools = schools.show(4)"
   ]
  },
  {
   "cell_type": "markdown",
   "metadata": {},
   "source": [
    "### Why `.show` can be useful"
   ]
  },
  {
   "cell_type": "code",
   "execution_count": null,
   "metadata": {},
   "outputs": [],
   "source": [
    "schools = Table.read_table('data/cal_unis.csv')\n",
    "schools.show(3) # just the first three rows\n",
    "schools = schools.relabeled(\"Name\", \"University\")\n",
    "schools.show(3) # and again\n",
    "schools = schools.with_columns(\"Name\", \"City\")\n",
    "schools         # the last evaluated value in a cell\n",
    "                # is displayed by default"
   ]
  },
  {
   "cell_type": "code",
   "execution_count": null,
   "metadata": {},
   "outputs": [],
   "source": [
    "schools.show()"
   ]
  },
  {
   "cell_type": "markdown",
   "metadata": {},
   "source": [
    "# Example: WNBA data"
   ]
  },
  {
   "cell_type": "code",
   "execution_count": null,
   "metadata": {},
   "outputs": [],
   "source": [
    "wnba = Table.read_table('data/wnba-2020.csv')"
   ]
  },
  {
   "cell_type": "code",
   "execution_count": null,
   "metadata": {},
   "outputs": [],
   "source": [
    "wnba"
   ]
  },
  {
   "cell_type": "code",
   "execution_count": null,
   "metadata": {},
   "outputs": [],
   "source": [
    "wnba.num_rows, wnba.num_columns"
   ]
  },
  {
   "cell_type": "code",
   "execution_count": null,
   "metadata": {},
   "outputs": [],
   "source": [
    "wnba_pts = wnba.select('Player', 'Tm', 'Pos', 'G', 'PTS')"
   ]
  },
  {
   "cell_type": "code",
   "execution_count": null,
   "metadata": {},
   "outputs": [],
   "source": [
    "wnba_pts"
   ]
  },
  {
   "cell_type": "code",
   "execution_count": null,
   "metadata": {
    "scrolled": true
   },
   "outputs": [],
   "source": [
    "# Computes number of points scored per game\n",
    "wnba_pts.column('PTS') / wnba_pts.column('G')"
   ]
  },
  {
   "cell_type": "code",
   "execution_count": null,
   "metadata": {},
   "outputs": [],
   "source": [
    "wnba_pts = wnba_pts.with_columns(\n",
    "    'PPG', wnba_pts.column('PTS') / wnba_pts.column('G')\n",
    ")"
   ]
  },
  {
   "cell_type": "code",
   "execution_count": null,
   "metadata": {},
   "outputs": [],
   "source": [
    "wnba_pts"
   ]
  },
  {
   "cell_type": "markdown",
   "metadata": {},
   "source": [
    "# Even More Practice"
   ]
  },
  {
   "cell_type": "code",
   "execution_count": null,
   "metadata": {},
   "outputs": [],
   "source": [
    "schools = Table.read_table('data/cal_unis.csv')"
   ]
  },
  {
   "cell_type": "code",
   "execution_count": null,
   "metadata": {
    "scrolled": true
   },
   "outputs": [],
   "source": [
    "schools = schools.sort(\"City\")\n",
    "schools = schools.take(np.arange(10, 20))\n",
    "schools.where(\"City\", are.equal_to(\"Los Angeles\"))"
   ]
  },
  {
   "cell_type": "code",
   "execution_count": null,
   "metadata": {},
   "outputs": [],
   "source": [
    "schools.where(\"City\", are.equal_to(\"Los Angeles\"))"
   ]
  },
  {
   "cell_type": "code",
   "execution_count": null,
   "metadata": {},
   "outputs": [],
   "source": [
    "states = Table.read_table('data/us-state-capitals.csv')\n",
    "states"
   ]
  },
  {
   "cell_type": "code",
   "execution_count": null,
   "metadata": {},
   "outputs": [],
   "source": [
    "# Fill in the blank so that the correct array is returned.\n",
    "states.column(...)"
   ]
  }
 ],
 "metadata": {
  "kernelspec": {
   "display_name": "Python 3 (ipykernel)",
   "language": "python",
   "name": "python3"
  },
  "language_info": {
   "codemirror_mode": {
    "name": "ipython",
    "version": 3
   },
   "file_extension": ".py",
   "mimetype": "text/x-python",
   "name": "python",
   "nbconvert_exporter": "python",
   "pygments_lexer": "ipython3",
   "version": "3.11.9"
  }
 },
 "nbformat": 4,
 "nbformat_minor": 4
}
