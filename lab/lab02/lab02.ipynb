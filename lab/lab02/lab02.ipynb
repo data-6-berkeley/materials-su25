{
 "cells": [
  {
   "cell_type": "code",
   "execution_count": null,
   "id": "e2ec2504",
   "metadata": {
    "deletable": false,
    "editable": false
   },
   "outputs": [],
   "source": [
    "# Initialize Otter\n",
    "import otter\n",
    "grader = otter.Notebook(\"lab02.ipynb\")"
   ]
  },
  {
   "cell_type": "markdown",
   "id": "8e30793c",
   "metadata": {},
   "source": [
    "<img src=\"data6.png\" style=\"width: 15%; float: right; padding: 1%; margin-right: 2%;\"/>\n",
    "\n",
    "# Lab 2 \u2013 Tables and Data Manipulation\n",
    "\n",
    "## Data 6, Summer 2025\n",
    "\n",
    "In this lab, we will be talking all about *Tables*. We use tables to store all sorts of data from sports statistics to population information. If there's data you have ever been curious about, it is very likely that the Internet has a table somewhere with that data!\n",
    "\n",
    "Tables are integral to the foundation of Data Science, and we will go over how to **query** a table. **Querying** a table is, simply put, requesting information about the table. Some examples of common queries (in English, not code):\n",
    "\n",
    "- How many data points are there?\n",
    "- Which data points have a specific characteristic?\n",
    "- What is the attribute of a specific data point?\n",
    "- And many more!\n",
    "\n",
    "There are so many ways we can use tables to get information we need, and there are several existing libraries in Python that we can use to do this! In this course, we will be using the `datascience` library. This is the standard library used both in Data 6 and Data 8 at UC Berkeley. If you take Data Science classes beyond those two, you'll learn more!"
   ]
  },
  {
   "cell_type": "code",
   "execution_count": null,
   "id": "f93054d5",
   "metadata": {},
   "outputs": [],
   "source": [
    "# Run this cell to load all required Python libraries \n",
    "import numpy as np\n",
    "from datascience import *\n",
    "\n",
    "import matplotlib.pyplot as plt\n",
    "plt.style.use(\"fivethirtyeight\")\n",
    "\n",
    "import warnings\n",
    "warnings.simplefilter('ignore')"
   ]
  },
  {
   "cell_type": "markdown",
   "id": "a4e6988a",
   "metadata": {},
   "source": [
    "## Table Creation\n",
    "\n",
    "Let's take a look at a table in action. Python does not have any tables by default, so we can either *create a new table from scratch* or *import a table from a file*. First, let's see how we can make our own table from scratch.\n",
    "\n",
    "We start out with an empty `Table` -- this is the same idea as having an empty array or string. Note that `Table` is capitalized and there is nothing in the parentheses."
   ]
  },
  {
   "cell_type": "code",
   "execution_count": null,
   "id": "a6482f25",
   "metadata": {},
   "outputs": [],
   "source": [
    "# Run this cell to load an empty table\n",
    "our_table = Table()\n",
    "our_table"
   ]
  },
  {
   "cell_type": "markdown",
   "id": "f804c549",
   "metadata": {},
   "source": [
    "## Adding Data: `with_columns`"
   ]
  },
  {
   "cell_type": "markdown",
   "id": "c09029a3",
   "metadata": {},
   "source": [
    "Now, let's put some data in our table! To do so, we use the `with_columns` method. This method requires **two arguments**:\n",
    "1. The name of the column as a string\n",
    "2. An array of values to put in the column\n",
    "\n",
    "An example call to `with_columns` looks like: `my_tbl.with_columns(\"My New Column\", my_array)`, where `my_tbl` is our table that we would like to add to and `my_array` is a previously-defined array.\n",
    "\n",
    "Run the cell below to see how we can add multiple columns into `our_table`."
   ]
  },
  {
   "cell_type": "code",
   "execution_count": null,
   "id": "3eca58f5",
   "metadata": {
    "scrolled": false
   },
   "outputs": [],
   "source": [
    "our_table = our_table.with_columns(\n",
    "    \"Department\", make_array(\"Data Science\", \"Economics\", \"Political Science\", \"Sociology\"),\n",
    "    \"Course Number\", make_array(6, 1, 2, 121)\n",
    ")\n",
    "our_table"
   ]
  },
  {
   "cell_type": "markdown",
   "id": "99f7945e",
   "metadata": {},
   "source": [
    "We need to make sure that the columns we add to the table have the same number of rows (the length of the array we pass in) as the table. Otherwise, we'll get an error.\n",
    "\n",
    "Watch what happens if we try to add a new column that doesn't have enough data (you'll see an error!)"
   ]
  },
  {
   "cell_type": "code",
   "execution_count": null,
   "id": "40a2f325",
   "metadata": {
    "tags": [
     "raises-exception"
    ]
   },
   "outputs": [],
   "source": [
    "# Just run this cell\n",
    "our_table.with_columns(\"Too Few Rows\", np.array([1, 2, 3]))"
   ]
  },
  {
   "cell_type": "markdown",
   "id": "bbd3947e",
   "metadata": {},
   "source": [
    "**Question 1.1**: Add a new column to `our_table` called `\"Number of Students\"` that contains the number of students in each department. Jedi tells you that the *Data Science* department has 240 students, the *Economics* department has 905 students, the *Political Science* Department has 209 students, and the *Sociology* department has 63 students. \n",
    "\n",
    "Assign this new table to the variable `our_table_new_column`\n"
   ]
  },
  {
   "cell_type": "code",
   "execution_count": null,
   "id": "aae3cf41",
   "metadata": {
    "tags": []
   },
   "outputs": [],
   "source": [
    "# Our table has 4 rows, so our new column needs an array with 4 items, 1 for each row\n",
    "students_array = ...\n",
    "our_table_new_column = ...\n",
    "our_table_new_column"
   ]
  },
  {
   "cell_type": "code",
   "execution_count": null,
   "id": "3afb7312",
   "metadata": {
    "deletable": false,
    "editable": false
   },
   "outputs": [],
   "source": [
    "grader.check(\"q1_1\")"
   ]
  },
  {
   "cell_type": "code",
   "execution_count": null,
   "id": "f50591a7",
   "metadata": {},
   "outputs": [],
   "source": [
    "# This is our final table!\n",
    "# You may use this cell to explore the table and see what you can do with it so far!\n",
    "our_table_new_column"
   ]
  },
  {
   "cell_type": "markdown",
   "id": "0c788773",
   "metadata": {},
   "source": [
    "## Table attributes: `num_rows` and `num_columns`\n",
    "\n",
    "We can ask for all sorts of information about the table itself:"
   ]
  },
  {
   "cell_type": "code",
   "execution_count": null,
   "id": "41e5b208",
   "metadata": {},
   "outputs": [],
   "source": [
    "our_table_new_column.num_rows"
   ]
  },
  {
   "cell_type": "code",
   "execution_count": null,
   "id": "5a3df39e",
   "metadata": {},
   "outputs": [],
   "source": [
    "our_table_new_column.num_columns"
   ]
  },
  {
   "cell_type": "markdown",
   "id": "1f2e9215",
   "metadata": {},
   "source": [
    "## Accessing Data: `column`\n",
    "\n",
    "We can also ask about the data in the table using the `column` method. As mentioned in lecture, we can pass in a `label` or an `index` to this method. \n",
    "\n",
    "*Note*: Recall that index into the columns of a table using **zero-indexing** -- `0` corresponds to the first column, `1` corresponds to the second, etc...."
   ]
  },
  {
   "cell_type": "code",
   "execution_count": null,
   "id": "928d226f",
   "metadata": {},
   "outputs": [],
   "source": [
    "# Converts a column in the table to an array\n",
    "our_table_new_column.column(\"Department\")"
   ]
  },
  {
   "cell_type": "code",
   "execution_count": null,
   "id": "0357e369",
   "metadata": {},
   "outputs": [],
   "source": [
    "# Same thing, but uses column index instead of label\n",
    "our_table_new_column.column(0)"
   ]
  },
  {
   "cell_type": "markdown",
   "id": "40a70599",
   "metadata": {},
   "source": [
    "**Question 1.2**: Find the average number of students in each department by first accessing the `\"Number of Students\"` column as an array and then taking the average. Assign the average to `avg_num_students`.\n",
    "\n",
    "*Note*: You may use any `np` functions here\n"
   ]
  },
  {
   "cell_type": "code",
   "execution_count": null,
   "id": "92a8d0a0",
   "metadata": {
    "tags": []
   },
   "outputs": [],
   "source": [
    "avg_num_students = ...\n",
    "avg_num_students"
   ]
  },
  {
   "cell_type": "code",
   "execution_count": null,
   "id": "7fce1a41",
   "metadata": {
    "deletable": false,
    "editable": false
   },
   "outputs": [],
   "source": [
    "grader.check(\"q1_2\")"
   ]
  },
  {
   "cell_type": "markdown",
   "id": "716c529e",
   "metadata": {},
   "source": [
    "## Loading a Table\n",
    "\n",
    "Although creating our own tables by hand can be useful, more often than not the data we want to work with is far too large to be able to type out by hand. More commonly, we load datasets in from other sources using the `Table.read_table()` method. We can pass in a *file path* to this method and it will load that data into a table we can use in Python!"
   ]
  },
  {
   "cell_type": "markdown",
   "id": "cb55f7b8",
   "metadata": {},
   "source": [
    "### Background on the Data\n",
    "\n",
    "The dataset that we'll use in this lab comes from the Behavioral Risk Factor Surveillance System (BRFSS), a health survey fielded by the Centers for Disease Control and Prevention (CDC). From the [BRFSS website](https://www.cdc.gov/brfss/index.html):\n",
    ">The Behavioral Risk Factor Surveillance System (BRFSS) is the nation\u2019s premier system of health-related telephone surveys that collect state data about U.S. residents regarding their health-related risk behaviors, chronic health conditions, and use of preventive services.\n",
    "\n",
    ">By collecting behavioral health risk data at the state and local level, BRFSS has become a powerful tool for targeting and building health promotion activities. \n",
    "\n",
    "The dataset that you will investigate is a **subset of the 2022 BRFSS Survey**. We've taken all the data points corresponding to fully-completed surveys and, in our opinion, the most interesting columns. Since the entire data set is so large, we've randomly sampled 100,000 rows from the original data. While we've wrangled and cleaning the data set you'll use in your investigation, you're welcome to investigate the original source; you can do so via the [Survey Data section](https://www.cdc.gov/brfss/data_documentation/index.htm) of the BRFSS site."
   ]
  },
  {
   "cell_type": "markdown",
   "id": "5d1446fd",
   "metadata": {},
   "source": [
    "## Seeing a table: `show()`\n",
    "\n",
    "The use of the `show()` method **displays** the first n rows of a table. Like `print()` this does not return a value, it just displays the value to us at the end of a cell."
   ]
  },
  {
   "cell_type": "code",
   "execution_count": null,
   "id": "c0d07f8d",
   "metadata": {},
   "outputs": [],
   "source": [
    "# Run this cell to load in the data\n",
    "brfss = Table.read_table(\"brfss.csv\")\n",
    "brfss.show(5)"
   ]
  },
  {
   "cell_type": "markdown",
   "id": "6ae1729d",
   "metadata": {},
   "source": [
    "**Question 2.1:** Fill in the `num_rows_brfss` and `num_columns_brfss` with the number of rows and columns in the original `brfss` table, respectively.\n"
   ]
  },
  {
   "cell_type": "code",
   "execution_count": null,
   "id": "1c812a28",
   "metadata": {
    "tags": []
   },
   "outputs": [],
   "source": [
    "num_rows_brfss = ...\n",
    "num_columns_brfss = ...\n",
    "print(f\"Our `brfss` table has {num_rows_brfss} rows and {num_columns_brfss} columns\")"
   ]
  },
  {
   "cell_type": "code",
   "execution_count": null,
   "id": "7c4e2a05",
   "metadata": {
    "deletable": false,
    "editable": false
   },
   "outputs": [],
   "source": [
    "grader.check(\"q2_1\")"
   ]
  },
  {
   "cell_type": "markdown",
   "id": "42c711d7",
   "metadata": {},
   "source": [
    "### Investigating our Data\n",
    "\n",
    "Now that we've loaded our data into the `brfss` table, let's take a closer look at its columns. Run the following cell to output the column names. "
   ]
  },
  {
   "cell_type": "code",
   "execution_count": null,
   "id": "0f858e7f",
   "metadata": {},
   "outputs": [],
   "source": [
    "brfss.labels"
   ]
  },
  {
   "cell_type": "markdown",
   "id": "895edfc3",
   "metadata": {},
   "source": [
    "Based on these column names, it looks like the data includes questions about **telecommunications**, **housing**, **demographic information**, **mental and physical health**, **alcohol and drug consumption**, and **physical exercise**. Each column in the `brfss` table corresponds to a question asked in the official BRFSS Survey."
   ]
  },
  {
   "cell_type": "markdown",
   "id": "0cb0fbb5",
   "metadata": {},
   "source": [
    "## Data Manipulation\n",
    "\n",
    "Now that we have a solid understanding of the basic table methods from the `datascience` library, let's put our skills to use! Even with a few tools, we are already able to arrive at powerful realizations about real world data."
   ]
  },
  {
   "cell_type": "markdown",
   "id": "5b93b10a",
   "metadata": {},
   "source": [
    "**Question 2.2**: Assign `num_alabama_rows` to the the number of times the name **Alabama** appeared in the `brfss` table.\n",
    "\n",
    "*Hint*: Use the table methods you've learned above!\n"
   ]
  },
  {
   "cell_type": "code",
   "execution_count": null,
   "id": "abec42f7",
   "metadata": {
    "tags": []
   },
   "outputs": [],
   "source": [
    "alabama_tbl = ...\n",
    "num_alabama_rows = ...\n",
    "num_alabama_rows"
   ]
  },
  {
   "cell_type": "code",
   "execution_count": null,
   "id": "66455f99",
   "metadata": {
    "deletable": false,
    "editable": false
   },
   "outputs": [],
   "source": [
    "grader.check(\"q2_2\")"
   ]
  },
  {
   "cell_type": "markdown",
   "id": "f45112f9",
   "metadata": {},
   "source": [
    "Take a closer look at some of the columns in the `brfss` table. For the next two questions, we will be looking at the `\"Binge Drinks\"` column, which corresponds to this survey question:\n",
    "> Considering all types of alcoholic beverages, how many times during the past 30 days did you have 5 or more\n",
    "drinks for men or 4 or more drinks for women on an occasion? \n",
    "\n",
    "Notice that this column contains negative values, most notably `-1`. Why might this be the case? Discuss with the people around you and check in with your GSI to confirm."
   ]
  },
  {
   "cell_type": "code",
   "execution_count": null,
   "id": "c9295eff",
   "metadata": {},
   "outputs": [],
   "source": [
    "# Run this cell\n",
    "brfss.column(\"Binge Drinks\")"
   ]
  },
  {
   "cell_type": "markdown",
   "id": "55e6b726",
   "metadata": {},
   "source": [
    "**Question 2.3**: Create a new table called `missing_binge_drinks` which only contains rows from the `brfss` table where there is a `-1` in the `\"Binge Drinks\"` column.\n"
   ]
  },
  {
   "cell_type": "code",
   "execution_count": null,
   "id": "df9e64d6",
   "metadata": {
    "tags": []
   },
   "outputs": [],
   "source": [
    "missing_binge_drinks = ...\n",
    "missing_binge_drinks"
   ]
  },
  {
   "cell_type": "code",
   "execution_count": null,
   "id": "ef443143",
   "metadata": {
    "deletable": false,
    "editable": false
   },
   "outputs": [],
   "source": [
    "grader.check(\"q2_3\")"
   ]
  },
  {
   "cell_type": "markdown",
   "id": "632ab02e",
   "metadata": {},
   "source": [
    "<!-- BEGIN QUESTION -->\n",
    "\n",
    "**Question 2.4 (*Discussion*):** Say we wanted to find the average of one of the columns from our original table. How does the inclusion of `-1` values *affect* this average? If we removed all the negative values, how would the average change?\n",
    "\n",
    "Then, once you've answered, run the following cell to confirm your understanding.\n"
   ]
  },
  {
   "cell_type": "markdown",
   "id": "2217dc6e",
   "metadata": {},
   "source": [
    "_Type your answer here, replacing this text._"
   ]
  },
  {
   "cell_type": "markdown",
   "id": "c3adf1d0",
   "metadata": {},
   "source": [
    "<!-- END QUESTION -->\n",
    "\n"
   ]
  },
  {
   "cell_type": "code",
   "execution_count": null,
   "id": "ebc80482",
   "metadata": {},
   "outputs": [],
   "source": [
    "brfss_no_negatives_children = brfss.where(\"Children\", are.not_equal_to(-1))\n",
    "print(f\"With negatives: {np.average(brfss.column('Children'))}\")\n",
    "print(f\"Without negatives: {np.average(brfss_no_negatives_children.column('Children'))}\")"
   ]
  },
  {
   "cell_type": "markdown",
   "id": "d72c62e2",
   "metadata": {},
   "source": [
    "**Question 2.5:** As an **_extra challenge_**, see if you can output Alabama's average number of children for all respondents who gave an answer (i.e. do not have a value of -1) **without using the `np.average` function**. You should use the table `brfss_no_negatives_children` that's defined in the cell above.\n",
    "\n",
    "*Note*: We've provided some starter code. Feel free to use it or try another approach!\n"
   ]
  },
  {
   "cell_type": "code",
   "execution_count": null,
   "id": "73d316f6",
   "metadata": {
    "tags": []
   },
   "outputs": [],
   "source": [
    "alabama_tbl = ...\n",
    "children_total = ...\n",
    "average_num_children = ...\n",
    "average_num_children"
   ]
  },
  {
   "cell_type": "code",
   "execution_count": null,
   "id": "56c961a5",
   "metadata": {
    "deletable": false,
    "editable": false
   },
   "outputs": [],
   "source": [
    "grader.check(\"q2_5\")"
   ]
  },
  {
   "cell_type": "markdown",
   "id": "18309e5f",
   "metadata": {},
   "source": [
    "**Question 2.6:** Using the `no_missing_income` table we've provided for you, determine the **average income** for respondents who:\n",
    "1. Have a health insurance plan (\"Yes\" in \"Health Plan\" column)\n",
    "2. Do not have a health insurance plan (\"No\" in \"Health Plan\" column)\n",
    "3. Refused to answer this question (\"Declined to Answer\" in \"Health Plan\" column)\n",
    "\n",
    "You may use the starter code provided for you, but are not required to.\n"
   ]
  },
  {
   "cell_type": "code",
   "execution_count": null,
   "id": "1f48deb6",
   "metadata": {
    "tags": []
   },
   "outputs": [],
   "source": [
    "no_missing_income = brfss.where(\"Income Upper\", are.not_equal_to(-1))\n",
    "\n",
    "health_plan = ...\n",
    "no_health_plan = ...\n",
    "declined = ...\n",
    "\n",
    "average_plan = ...\n",
    "average_no_plan = ...\n",
    "average_declined = ...\n",
    "\n",
    "print(f\"Respondents with a Health Insurance Plan made: \\t\\t${round(average_plan, 2)}\")\n",
    "print(f\"Respondents without a Health Insurance Plan made: \\t${round(average_no_plan, 2)}\")\n",
    "print(f\"Respondents who refused to answer made: \\t\\t${round(average_declined, 2)}\")"
   ]
  },
  {
   "cell_type": "code",
   "execution_count": null,
   "id": "694804a9",
   "metadata": {
    "deletable": false,
    "editable": false
   },
   "outputs": [],
   "source": [
    "grader.check(\"q2_6\")"
   ]
  },
  {
   "cell_type": "markdown",
   "id": "b7fb6404",
   "metadata": {},
   "source": [
    "With just over a week of data science under your belts, you're already able to uncover underlying **patterns and trends** within real world data. In this case, we've found that those with health insurance plans make, on average, almost 9,000 more dollars a year than those without health insurance plans.\n",
    "\n",
    "What's valuable, too, is the information we gain when a population is *missing* or, in this case, *declines to participate*. Notice that the average salary of respondents who refused to answer was around 4,000 dollars lower than those *without* a Health Insurance Plan."
   ]
  },
  {
   "cell_type": "markdown",
   "id": "c7022d1a",
   "metadata": {},
   "source": [
    "## Done! \ud83d\ude07"
   ]
  },
  {
   "cell_type": "markdown",
   "id": "a90baa4d",
   "metadata": {
    "deletable": false,
    "editable": false
   },
   "source": [
    "---\n",
    "\n",
    "To double-check your work, the cell below will rerun all of the autograder tests."
   ]
  },
  {
   "cell_type": "code",
   "execution_count": null,
   "id": "51fbcb81",
   "metadata": {
    "deletable": false,
    "editable": false
   },
   "outputs": [],
   "source": [
    "grader.check_all()"
   ]
  },
  {
   "cell_type": "markdown",
   "id": "7f139e01",
   "metadata": {
    "deletable": false,
    "editable": false
   },
   "source": [
    "## Submission\n",
    "\n",
    "Make sure you have run all cells in your notebook in order before running the cell below, so that all images/graphs appear in the output. The cell below will generate a zip file for you to submit. **Please save before exporting!**"
   ]
  },
  {
   "cell_type": "code",
   "execution_count": null,
   "id": "b9070588",
   "metadata": {
    "deletable": false,
    "editable": false
   },
   "outputs": [],
   "source": [
    "# Save your notebook first, then run this cell to export your submission.\n",
    "grader.export(pdf=False)"
   ]
  },
  {
   "cell_type": "markdown",
   "id": "76200de8",
   "metadata": {},
   "source": [
    " "
   ]
  }
 ],
 "metadata": {
  "kernelspec": {
   "display_name": "Python 3",
   "language": "python",
   "name": "python3"
  },
  "language_info": {
   "codemirror_mode": {
    "name": "ipython",
    "version": 3
   },
   "file_extension": ".py",
   "mimetype": "text/x-python",
   "name": "python",
   "nbconvert_exporter": "python",
   "pygments_lexer": "ipython3",
   "version": "3.12.11"
  },
  "otter": {
   "OK_FORMAT": true,
   "tests": {
    "q1_1": {
     "name": "q1_1",
     "points": 1,
     "suites": [
      {
       "cases": [
        {
         "code": ">>> our_table_new_column.labels == ('Department', 'Course Number', 'Number of Students')\nTrue",
         "hidden": false,
         "locked": false
        },
        {
         "code": ">>> all(our_table_new_column.column(\"Number of Students\") == make_array(240, 905, 209,  63))\nTrue",
         "hidden": false,
         "locked": false
        }
       ],
       "scored": true,
       "setup": "",
       "teardown": "",
       "type": "doctest"
      }
     ]
    },
    "q1_2": {
     "name": "q1_2",
     "points": 1,
     "suites": [
      {
       "cases": [
        {
         "code": ">>> avg_num_students == 354.25\nTrue",
         "hidden": false,
         "locked": false
        }
       ],
       "scored": true,
       "setup": "",
       "teardown": "",
       "type": "doctest"
      }
     ]
    },
    "q2_1": {
     "name": "q2_1",
     "points": 1,
     "suites": [
      {
       "cases": [
        {
         "code": ">>> num_rows_brfss == 100000\nTrue",
         "hidden": false,
         "locked": false
        },
        {
         "code": ">>> num_columns_brfss == 23\nTrue",
         "hidden": false,
         "locked": false
        }
       ],
       "scored": true,
       "setup": "",
       "teardown": "",
       "type": "doctest"
      }
     ]
    },
    "q2_2": {
     "name": "q2_2",
     "points": 1,
     "suites": [
      {
       "cases": [
        {
         "code": ">>> num_alabama_rows == 1352\nTrue",
         "hidden": false,
         "locked": false
        }
       ],
       "scored": true,
       "setup": "",
       "teardown": "",
       "type": "doctest"
      }
     ]
    },
    "q2_3": {
     "name": "q2_3",
     "points": 1,
     "suites": [
      {
       "cases": [
        {
         "code": ">>> missing_binge_drinks.num_rows == 51042\nTrue",
         "hidden": false,
         "locked": false
        }
       ],
       "scored": true,
       "setup": "",
       "teardown": "",
       "type": "doctest"
      }
     ]
    },
    "q2_5": {
     "name": "q2_5",
     "points": 1,
     "suites": [
      {
       "cases": [
        {
         "code": ">>> np.isclose(average_num_children, 0.5443698732289336)\nTrue",
         "hidden": false,
         "locked": false
        }
       ],
       "scored": true,
       "setup": "",
       "teardown": "",
       "type": "doctest"
      }
     ]
    },
    "q2_6": {
     "name": "q2_6",
     "points": 1,
     "suites": [
      {
       "cases": [
        {
         "code": ">>> np.isclose(average_plan,43832.35496992514)\nTrue",
         "hidden": false,
         "locked": false
        },
        {
         "code": ">>> np.isclose(average_no_plan, 34940.17647058824)\nTrue",
         "hidden": false,
         "locked": false
        },
        {
         "code": ">>> np.isclose(average_declined, 30963.912280701756)\nTrue",
         "hidden": false,
         "locked": false
        }
       ],
       "scored": true,
       "setup": "",
       "teardown": "",
       "type": "doctest"
      }
     ]
    }
   }
  }
 },
 "nbformat": 4,
 "nbformat_minor": 5
}